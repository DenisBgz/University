{
  "cells": [
    {
      "cell_type": "markdown",
      "metadata": {
        "id": "view-in-github",
        "colab_type": "text"
      },
      "source": [
        "<a href=\"https://colab.research.google.com/github/DenisBgz/University/blob/main/%D0%94%D0%BE%D0%BF%D0%BE%D0%BB%D0%BD%D0%B8%D1%82%D0%B5%D0%BB%D1%8C%D0%BD%D1%8B%D0%B5%20%D0%B7%D0%B0%D0%B4%D0%B0%D1%87%D0%B8/%D0%94%D0%BE%D0%BF%D0%BE%D0%BB%D0%BD%D0%B8%D1%82%D0%B5%D0%BB%D1%8C%D0%BD%D0%BE%D0%B5%D0%97%D0%B0%D0%B4%D0%B0%D0%BD%D0%B8%D0%B5%20%E2%84%963.%D0%9E%D0%B1%D1%80%D0%B0%D0%B1%D0%BE%D1%82%D0%BA%D0%B0%D0%98%D1%81%D0%BA%D0%BB%D1%8E%D1%87%D0%B5%D0%BD%D0%B8%D0%B9%D0%98%D0%A0%D0%B0%D0%B1%D0%BE%D1%82%D0%B0%D0%A1%D0%A2%D0%B5%D0%BA%D1%81%D1%82%D0%BE%D0%B2%D1%8B%D0%BC%D0%B8%D0%A4%D0%B0%D0%B9%D0%BB%D0%B0%D0%BC%D0%B8.ipynb\" target=\"_parent\"><img src=\"https://colab.research.google.com/assets/colab-badge.svg\" alt=\"Open In Colab\"/></a>"
      ]
    },
    {
      "cell_type": "markdown",
      "id": "bb332bf9",
      "metadata": {
        "id": "bb332bf9"
      },
      "source": [
        "# **Дополнительное задание №3. Обработка исключений и работа с текстовыми файлами**"
      ]
    },
    {
      "cell_type": "markdown",
      "id": "aa6808db",
      "metadata": {
        "id": "aa6808db"
      },
      "source": [
        "**БАЗА:**\n",
        "\n",
        "- **Обработка исключений** позволяет перехватывать и обрабатывать ошибки, возникающие при выполнении программы, предотвращая её аварийное завершение.\n",
        "- **Работа с файлами** - важный навык для чтения, записи и обработки текстовой информации в Python.\n",
        "\n",
        "---"
      ]
    },
    {
      "cell_type": "markdown",
      "id": "2478deca",
      "metadata": {
        "id": "2478deca"
      },
      "source": [
        "## **I. Обработка исключений**"
      ]
    },
    {
      "cell_type": "markdown",
      "id": "0ab0b851",
      "metadata": {
        "id": "0ab0b851"
      },
      "source": [
        "### **Пункт №1. Обработка некорректного индекса (IndexError)**"
      ]
    },
    {
      "cell_type": "markdown",
      "id": "46e69e1f",
      "metadata": {
        "id": "46e69e1f"
      },
      "source": [
        "Создайте список из нескольких элементов (например, [10, 20, 30]). Попросите пользователя ввести индекс элемента, который нужно вывести. Если пользователь введёт индекс, выходящий за границы списка, перехватите IndexError и сообщите об этом.\n",
        "\n",
        "**ОБЯЗАТЕЛЬНО:**\n",
        "- Создайте список из минимум 5 элементов\n",
        "- Покажите содержимое списка перед работой\n",
        "- Протестируйте минимум 4 случая (корректный индекс, отрицательный, слишком большой, нечисловое значение)"
      ]
    },
    {
      "cell_type": "code",
      "execution_count": null,
      "id": "724c5954",
      "metadata": {
        "id": "724c5954",
        "outputId": "4a615971-f800-4b2e-9365-b937ece44856",
        "colab": {
          "base_uri": "https://localhost:8080/"
        }
      },
      "outputs": [
        {
          "name": "stdout",
          "output_type": "stream",
          "text": [
            "Значения в списке: [100, 200, 300, 400, 500, 600, 700, 800, 900]\n",
            "Введите индекс: 100\n",
            "Индекс выходит за пределы списка\n",
            "Введите индекс: 2\n",
            "Значение: 300\n",
            "Введите индекс: 4\n",
            "Значение: 500\n",
            "Введите индекс: 5\n",
            "Значение: 600\n",
            "Введите индекс: 234234\n",
            "Индекс выходит за пределы списка\n",
            "Введите индекс: стоп\n"
          ]
        }
      ],
      "source": [
        "arr = [100, 200, 300, 400, 500, 600, 700, 800, 900]\n",
        "\n",
        "print(\"Значения в списке:\", str(arr))\n",
        "\n",
        "while True:\n",
        "   string = input(\"Введите индекс: \")\n",
        "\n",
        "   if string == \"стоп\":\n",
        "    break\n",
        "\n",
        "   try:\n",
        "     print(f\"Значение: {arr[int(string)]}\")\n",
        "   except IndexError:\n",
        "     print(\"Индекс выходит за пределы списка\")"
      ]
    },
    {
      "cell_type": "markdown",
      "id": "7ac84eec",
      "metadata": {
        "id": "7ac84eec"
      },
      "source": [
        "---"
      ]
    },
    {
      "cell_type": "markdown",
      "id": "f8bfb6e1",
      "metadata": {
        "id": "f8bfb6e1"
      },
      "source": [
        "### **Пункт №2. Обработка исключений в цикле**"
      ]
    },
    {
      "cell_type": "markdown",
      "id": "63c3b706",
      "metadata": {
        "id": "63c3b706"
      },
      "source": [
        "Напишите программу, которая запрашивает у пользователя числа и добавляет их в список.\n",
        "- Если пользователь вводит некорректные данные, программа должна выводить сообщение об ошибке и продолжать работу.\n",
        "- Для выхода из программы пользователь должен ввести \"стоп\".\n",
        "\n",
        "**ОБЯЗАТЕЛЬНО:**\n",
        "- Покажите процесс ввода минимум 7 значений (включая ошибочные)\n",
        "- Выведите финальный список и статистику (сколько чисел введено успешно, сколько ошибок)"
      ]
    },
    {
      "cell_type": "markdown",
      "source": [
        "\n",
        "\n",
        "```\n",
        "# Пример:\n",
        "# Введите число: 10\n",
        "# Введите число: текст (Ошибка: это не число)\n",
        "# Введите число: стоп\n",
        "# Итоговый список: [10]\n",
        "```\n",
        "\n"
      ],
      "metadata": {
        "id": "aiWaEPOuoHDS"
      },
      "id": "aiWaEPOuoHDS"
    },
    {
      "cell_type": "code",
      "execution_count": null,
      "id": "31448e09",
      "metadata": {
        "id": "31448e09",
        "outputId": "db96b57c-211f-43dc-b9f6-203a2beed19b",
        "colab": {
          "base_uri": "https://localhost:8080/"
        }
      },
      "outputs": [
        {
          "output_type": "stream",
          "name": "stdout",
          "text": [
            "Введите число: 2\n",
            "Введите число: 3\n",
            "Введите число: фыв\n",
            "Ошибка: введено не число\n",
            "Введите число: 6\n",
            "Введите число: 7\n",
            "Введите число: привет\n",
            "Ошибка: введено не число\n",
            "Введите число: пока\n",
            "Ошибка: введено не число\n",
            "Введите число: 123\n",
            "Введите число: стоп\n",
            "Итоговый список: [2, 3, 6, 7, 123]\n",
            "Количество верно введённых чисел: 5\n",
            "Количество ошибок: 3\n"
          ]
        }
      ],
      "source": [
        "numbers = []\n",
        "mistakes = 0\n",
        "\n",
        "while True:\n",
        "    value = input(\"Введите число: \")\n",
        "    if value == \"стоп\":\n",
        "        break\n",
        "\n",
        "    try:\n",
        "        numbers.append(int(value))\n",
        "    except ValueError:\n",
        "        mistakes += 1\n",
        "        print(\"Ошибка: введено не число\")\n",
        "\n",
        "print(\"Итоговый список:\", numbers)\n",
        "print(\"Количество верно введённых чисел:\", len(numbers))\n",
        "print(\"Количество ошибок:\", mistakes)\n"
      ]
    },
    {
      "cell_type": "markdown",
      "metadata": {
        "id": "Yv-FNYTEp0vV"
      },
      "source": [
        "---"
      ],
      "id": "Yv-FNYTEp0vV"
    },
    {
      "cell_type": "markdown",
      "id": "5971f85d",
      "metadata": {
        "id": "5971f85d"
      },
      "source": [
        "### **Пункт №3**"
      ]
    },
    {
      "cell_type": "markdown",
      "id": "b1457074",
      "metadata": {
        "id": "b1457074"
      },
      "source": [
        "Создайте функцию `get_list_element(lst, index)`, которая безопасно извлекает элемент списка по индексу с использованием блоков `try`, `except`, `else` и `finally`.\n",
        "\n",
        "Функция должна:\n",
        "- Обрабатывать выход за пределы списка\n",
        "- Обрабатывать некорректный тип индекса\n",
        "- Выводить сообщение о попытке доступа в блоке `finally`\n",
        "\n",
        "**ОБЯЗАТЕЛЬНО:**\n",
        "- Выведите результаты для минимум 4 различных случаев (успешный доступ, выход за границы, отрицательный индекс, нечисловой индекс)\n",
        "- Покажите, что блок `finally` выполняется всегда\n",
        "\n",
        "```python\n",
        "# Пример использования:\n",
        "my_list = [1, 2, 3, 4, 5]\n",
        "get_list_element(my_list, 2)   # Вывод: \"Элемент: 3\", \"Попытка доступа завершена\"\n",
        "get_list_element(my_list, 10)  # Вывод: \"Индекс вне диапазона\", \"Попытка доступа завершена\"\n",
        "```"
      ]
    },
    {
      "cell_type": "code",
      "execution_count": null,
      "id": "1c067cf3",
      "metadata": {
        "id": "1c067cf3",
        "outputId": "8948d63d-8f25-460a-e8c9-24c816be0f26",
        "colab": {
          "base_uri": "https://localhost:8080/"
        }
      },
      "outputs": [
        {
          "output_type": "stream",
          "name": "stdout",
          "text": [
            "Элемент списка: 3\n",
            "Попытка обращения завершена\n",
            "Ошибка: индекс за пределами списка\n",
            "Попытка обращения завершена\n"
          ]
        }
      ],
      "source": [
        "def show_element(lst, pos):\n",
        "    try:\n",
        "        print(\"Элемент списка:\", lst[pos])\n",
        "    except IndexError:\n",
        "        print(\"Ошибка: индекс за пределами списка\")\n",
        "    finally:\n",
        "        print(\"Попытка обращения завершена\")\n",
        "\n",
        "numbers = [1, 2, 3, 4, 5]\n",
        "show_element(numbers, 2)\n",
        "show_element(numbers, 10)\n"
      ]
    },
    {
      "cell_type": "markdown",
      "id": "b5bb39c7",
      "metadata": {
        "id": "b5bb39c7"
      },
      "source": [
        "---"
      ]
    },
    {
      "cell_type": "markdown",
      "id": "b0972d59",
      "metadata": {
        "id": "b0972d59"
      },
      "source": [
        "## **II. Работа с текстовыми файлами**"
      ]
    },
    {
      "cell_type": "markdown",
      "id": "35729435",
      "metadata": {
        "id": "35729435"
      },
      "source": [
        "### **Пункт №1. Запись в файл**"
      ]
    },
    {
      "cell_type": "markdown",
      "id": "3121365f",
      "metadata": {
        "id": "3121365f"
      },
      "source": [
        "Напишите программу, которая запрашивает у пользователя строку и записывает её в файл output.txt в режиме дозаписи.\n",
        "\n",
        "**ОБЯЗАТЕЛЬНО:**\n",
        "- Запросите у пользователя минимум 3 строки\n",
        "- Покажите содержимое файла после записи"
      ]
    },
    {
      "cell_type": "code",
      "execution_count": 2,
      "id": "cbce6c5f",
      "metadata": {
        "id": "cbce6c5f",
        "outputId": "b1540f22-75f1-4ed1-88b5-07609549700c",
        "colab": {
          "base_uri": "https://localhost:8080/"
        }
      },
      "outputs": [
        {
          "output_type": "stream",
          "name": "stdout",
          "text": [
            "Введите текст: 1 строка\n",
            "Введите текст: 2 строка\n",
            "Введите текст: 3 строка\n",
            "Введите текст: 4 строка\n",
            "Введите текст: 5 строка\n",
            "Введите текст: 6 строка\n",
            "Введите текст: 7 строка\n",
            "Введите текст: 8 строка\n",
            "Введите текст: 9 строка\n",
            "Введите текст: 10 строка \n",
            "Введите текст: 11 строка\n",
            "Введите текст: стотп\n",
            "Введите текст: стоп\n",
            "1 строка\n",
            "2 строка\n",
            "3 строка\n",
            "4 строка\n",
            "5 строка\n",
            "6 строка\n",
            "7 строка\n",
            "8 строка\n",
            "9 строка\n",
            "10 строка \n",
            "11 строка\n",
            "стотп\n",
            "\n"
          ]
        }
      ],
      "source": [
        "\n",
        "with open(\"output.txt\", \"a+\") as file:\n",
        "  while True:\n",
        "    string = input(\"Введите текст: \")\n",
        "\n",
        "    if string == \"стоп\":\n",
        "      break\n",
        "\n",
        "    file.write(string + \"\\n\")\n",
        "\n",
        "with open(\"output.txt\") as file:\n",
        "  print(file.read())"
      ]
    },
    {
      "cell_type": "markdown",
      "id": "361b3d2b",
      "metadata": {
        "id": "361b3d2b"
      },
      "source": [
        "---"
      ]
    },
    {
      "cell_type": "markdown",
      "id": "cce864b4",
      "metadata": {
        "id": "cce864b4"
      },
      "source": [
        "### **Пункт №2. Чтение из файла**"
      ]
    },
    {
      "cell_type": "markdown",
      "id": "4fc83b82",
      "metadata": {
        "id": "4fc83b82"
      },
      "source": [
        "Напишите программу, которая открывает файл output.txt и выводит его содержимое на экран.\n",
        "\n",
        "**ОБЯЗАТЕЛЬНО:**\n",
        "- Создайте файл с минимум 5 строками текста\n",
        "- Покажите содержимое файла целиком\n",
        "- Обработайте случай отсутствующего файла"
      ]
    },
    {
      "cell_type": "code",
      "execution_count": null,
      "id": "df27a986",
      "metadata": {
        "id": "df27a986",
        "outputId": "f3bc7d3e-8cc0-4466-8a8c-64ad333f22b3",
        "colab": {
          "base_uri": "https://localhost:8080/"
        }
      },
      "outputs": [
        {
          "output_type": "stream",
          "name": "stdout",
          "text": [
            "1 сторка\n",
            "2 строка\n",
            "3 строка\n",
            "4 строка\n",
            "5 строка\n",
            "6 строка\n",
            "7 строка\n",
            "8 строка\n",
            "9 строка\n",
            "10 строка\n",
            "\n"
          ]
        }
      ],
      "source": [
        "try:\n",
        "    with open(\"output.txt\", \"r\") as f:\n",
        "        print(f.read())\n",
        "except FileNotFoundError:\n",
        "    print(\"Файл не найден\")\n"
      ]
    },
    {
      "cell_type": "markdown",
      "id": "2be296a2",
      "metadata": {
        "id": "2be296a2"
      },
      "source": [
        "---"
      ]
    },
    {
      "cell_type": "markdown",
      "id": "045696ba",
      "metadata": {
        "id": "045696ba"
      },
      "source": [
        "### **Пункт №3. Подсчет строк в файле**"
      ]
    },
    {
      "cell_type": "markdown",
      "id": "570ac3e9",
      "metadata": {
        "id": "570ac3e9"
      },
      "source": [
        "Напишите программу, которая открывает файл output.txt и подсчитывает количество строк в нём.\n",
        "\n",
        "**ОБЯЗАТЕЛЬНО:**\n",
        "- Создайте тестовый файл с известным количеством строк (минимум 10)\n",
        "- Покажите первые 3 строки файла\n",
        "- Выведите общее количество строк\n",
        "- Выведите количество непустых строк"
      ]
    },
    {
      "cell_type": "code",
      "execution_count": null,
      "id": "84aa205a",
      "metadata": {
        "id": "84aa205a",
        "outputId": "ce772e72-86a6-4bce-8d97-320443f4db59",
        "colab": {
          "base_uri": "https://localhost:8080/"
        }
      },
      "outputs": [
        {
          "output_type": "stream",
          "name": "stdout",
          "text": [
            "1 сторка\n",
            "2 строка\n",
            "3 строка\n",
            "\n",
            "Всего строк: 10\n",
            "Непустых строк: 10\n"
          ]
        }
      ],
      "source": [
        "try:\n",
        "    with open(\"output.txt\", \"r\") as f:\n",
        "        all_lines = f.readlines()\n",
        "        print(*all_lines[:3], sep=\"\")\n",
        "        print(\"Всего строк:\", len(all_lines))\n",
        "        non_empty_count = len([line for line in all_lines if line.strip()])\n",
        "        print(\"Непустых строк:\", non_empty_count)\n",
        "except FileNotFoundError:\n",
        "    print(\"Ошибка: файл не найден\")\n"
      ]
    },
    {
      "cell_type": "markdown",
      "id": "94c6dcb0",
      "metadata": {
        "id": "94c6dcb0"
      },
      "source": [
        "---"
      ]
    },
    {
      "cell_type": "markdown",
      "id": "56f2a74e",
      "metadata": {
        "id": "56f2a74e"
      },
      "source": [
        "### **Пункт №4. Копирование содержимого файла**"
      ]
    },
    {
      "cell_type": "markdown",
      "id": "ed736046",
      "metadata": {
        "id": "ed736046"
      },
      "source": [
        "Напишите программу, которая копирует содержимое файла input.txt в файл output.txt.\n",
        "\n",
        "**ОБЯЗАТЕЛЬНО:**\n",
        "- Создайте исходный файл с тестовым содержимым (минимум 5 строк)\n",
        "- Покажите содержимое исходного файла\n",
        "- Выполните копирование\n",
        "- Покажите содержимое скопированного файла\n",
        "- Обработайте случай отсутствия исходного файла"
      ]
    },
    {
      "cell_type": "code",
      "execution_count": 3,
      "id": "31bd8a06",
      "metadata": {
        "id": "31bd8a06",
        "colab": {
          "base_uri": "https://localhost:8080/"
        },
        "outputId": "8cb712a1-8228-4231-ba1e-ce4f97957b5d"
      },
      "outputs": [
        {
          "output_type": "stream",
          "name": "stdout",
          "text": [
            "1 строка\n",
            "2 строка\n",
            "3 строка\n",
            "4 строка\n",
            "5 строка\n",
            "6 строка\n",
            "7 строка\n",
            "8 строка\n",
            "9 строка\n",
            "10 строка \n",
            "11 строка\n",
            "стотп\n",
            "\n"
          ]
        }
      ],
      "source": [
        "try:\n",
        "    with open(\"input.txt\", \"r\") as src, open(\"output.txt\", \"w\") as dest:\n",
        "        dest.write(src.read())\n",
        "except FileNotFoundError:\n",
        "    print(\"Ошибка: файл input.txt не найден\")\n",
        "\n",
        "with open(\"output.txt\", \"r\") as result:\n",
        "    print(result.read())\n"
      ]
    },
    {
      "cell_type": "markdown",
      "id": "2f7c8ee5",
      "metadata": {
        "id": "2f7c8ee5"
      },
      "source": [
        "---"
      ]
    },
    {
      "cell_type": "markdown",
      "id": "70ee398b",
      "metadata": {
        "id": "70ee398b"
      },
      "source": [
        "### **Пункт №5. Поиск слова в файле**"
      ]
    },
    {
      "cell_type": "markdown",
      "id": "c67f8987",
      "metadata": {
        "id": "c67f8987"
      },
      "source": [
        "Напишите программу, которая открывает файл output.txt и проверяет, содержится ли в нём слово, введённое пользователем.\n",
        "\n",
        "**ОБЯЗАТЕЛЬНО:**\n",
        "- Создайте файл с минимум 10 строками текста\n",
        "- Покажите содержимое файла\n",
        "- Протестируйте поиск минимум 5 различных слов\n",
        "- Выведите номера строк, где найдено слово\n",
        "- Покажите количество вхождений слова"
      ]
    },
    {
      "cell_type": "code",
      "execution_count": 4,
      "id": "d961bbf3",
      "metadata": {
        "id": "d961bbf3",
        "colab": {
          "base_uri": "https://localhost:8080/"
        },
        "outputId": "118f4bd9-cd3e-421c-9e75-41835486e0a1"
      },
      "outputs": [
        {
          "name": "stdout",
          "output_type": "stream",
          "text": [
            "Введите слово: 1\n",
            "Слово встречается в строках: 1, 10, 11\n",
            "Общее количество вхождений: 4\n",
            "Введите слово: 2\n",
            "Слово встречается в строках: 2\n",
            "Общее количество вхождений: 1\n",
            "Введите слово: 3\n",
            "Слово встречается в строках: 3\n",
            "Общее количество вхождений: 1\n",
            "Введите слово: cnjgn\n",
            "Общее количество вхождений: 0\n",
            "Введите слово: пять\n",
            "Общее количество вхождений: 0\n",
            "Введите слово: стоп\n"
          ]
        }
      ],
      "source": [
        "with open(\"output.txt\", \"r\") as f:\n",
        "    all_lines = f.readlines()\n",
        "    f.seek(0)\n",
        "    full_text = f.read()\n",
        "\n",
        "while True:\n",
        "    word = input(\"Введите слово: \")\n",
        "    if word == \"стоп\":\n",
        "        break\n",
        "\n",
        "    line_numbers = [str(i + 1) for i, line in enumerate(all_lines) if word in line]\n",
        "    if line_numbers:\n",
        "        print(\"Слово встречается в строках:\", \", \".join(line_numbers))\n",
        "\n",
        "    print(\"Общее количество вхождений:\", full_text.count(word))\n",
        "3"
      ]
    },
    {
      "cell_type": "markdown",
      "id": "8d69c77a",
      "metadata": {
        "id": "8d69c77a"
      },
      "source": [
        "---"
      ]
    },
    {
      "cell_type": "markdown",
      "id": "0079e067",
      "metadata": {
        "id": "0079e067"
      },
      "source": [
        "### **Пункт №6. Чтение файла с обработкой FileNotFoundError**"
      ]
    },
    {
      "cell_type": "markdown",
      "id": "c3d27312",
      "metadata": {
        "id": "c3d27312"
      },
      "source": [
        "Напишите программу, которая запрашивает у пользователя имя файла и пытается открыть его. Если файла не существует, перехватите FileNotFoundError и выведите сообщение «Файл не найден!».\n",
        "\n",
        "**ОБЯЗАТЕЛЬНО:**\n",
        "- Протестируйте с существующим файлом\n",
        "- Протестируйте с несуществующим файлом\n",
        "- Покажите содержимое существующего файла"
      ]
    },
    {
      "cell_type": "code",
      "execution_count": 5,
      "id": "0c262bd2",
      "metadata": {
        "id": "0c262bd2",
        "colab": {
          "base_uri": "https://localhost:8080/"
        },
        "outputId": "98d2fcff-d485-4311-b67a-dc2d50722065"
      },
      "outputs": [
        {
          "output_type": "stream",
          "name": "stdout",
          "text": [
            "Создание файла output.txt\n",
            "Введите строку для файла: привет\n",
            "Введите строку для файла: фыв\n",
            "Введите строку для файла: ывпа\n",
            "Чтение существующего файла\n",
            "Введите имя файла для чтения: output.txt\n",
            "Содержимое файла:\n",
            "1 строка\n",
            "2 строка\n",
            "3 строка\n",
            "4 строка\n",
            "5 строка\n",
            "6 строка\n",
            "7 строка\n",
            "8 строка\n",
            "9 строка\n",
            "10 строка \n",
            "11 строка\n",
            "стотп\n",
            "привет\n",
            "фыв\n",
            "ывпа\n",
            "\n",
            "Чтение несуществующего файла\n",
            "Введите имя файла для чтения: стопфыв\n",
            "Файл не найден!\n"
          ]
        }
      ],
      "source": [
        "def create_file():\n",
        "    with open(\"output.txt\", \"a\", encoding=\"utf-8\") as f:\n",
        "        for _ in range(3):\n",
        "            line = input(\"Введите строку для файла: \")\n",
        "            f.write(line + \"\\n\")\n",
        "\n",
        "def read_file():\n",
        "    file_name = input(\"Введите имя файла для чтения: \")\n",
        "    try:\n",
        "        with open(file_name, \"r\", encoding=\"utf-8\") as f:\n",
        "            print(\"Содержимое файла:\\n\" + f.read())\n",
        "    except FileNotFoundError:\n",
        "        print(\"Файл не найден!\")\n",
        "\n",
        "def main():\n",
        "    print(\"Создание файла output.txt\")\n",
        "    create_file()\n",
        "\n",
        "    print(\"Чтение существующего файла\")\n",
        "    read_file()\n",
        "\n",
        "    print(\"Чтение несуществующего файла\")\n",
        "    read_file()\n",
        "\n",
        "if __name__ == \"__main__\":\n",
        "    main()\n"
      ]
    },
    {
      "cell_type": "markdown",
      "id": "c3258b46",
      "metadata": {
        "id": "c3258b46"
      },
      "source": [
        "---"
      ]
    },
    {
      "cell_type": "markdown",
      "id": "02e0767b",
      "metadata": {
        "id": "02e0767b"
      },
      "source": [
        "### **Пункт №7. Подсчет статистики файла**"
      ]
    },
    {
      "cell_type": "markdown",
      "id": "1c33b711",
      "metadata": {
        "id": "1c33b711"
      },
      "source": [
        "Напишите функцию `file_statistics(filename)`, которая читает текстовый файл и возвращает словарь со статистикой:\n",
        "- Количество строк\n",
        "- Количество слов\n",
        "- Количество символов (с пробелами и без)\n",
        "\n",
        "**ОБЯЗАТЕЛЬНО:**\n",
        "- Создайте тестовый файл с минимум 5 строками текста\n",
        "- Выведите содержимое файла ДО обработки\n",
        "- Выведите полученную статистику\n",
        "- Обработайте случай несуществующего файла\n",
        "\n",
        "```python\n",
        "# Создание тестового файла\n",
        "test_content = \"\"\"Первая строка текста\n",
        "Вторая строка с большим количеством слов\n",
        "Третья строка\n",
        "Четвертая строка для теста\n",
        "Пятая и последняя строка\"\"\"\n",
        "\n",
        "# Сохраните в файл и продемонстрируйте работу\n",
        "```"
      ]
    },
    {
      "cell_type": "code",
      "execution_count": 6,
      "id": "43bfd6b8",
      "metadata": {
        "id": "43bfd6b8",
        "colab": {
          "base_uri": "https://localhost:8080/"
        },
        "outputId": "ce764d58-89a0-4227-972a-fcdee7a8fdec"
      },
      "outputs": [
        {
          "output_type": "stream",
          "name": "stdout",
          "text": [
            "=== Тест 1: файл существует ===\n",
            "Содержимое файла:\n",
            " Первая строка текста\n",
            "Вторая строка с большим количеством слов\n",
            "Третья строка\n",
            "Четвертая строка для теста\n",
            "Пятая и последняя строка\n",
            "Статистика файла: {'Строки': 5, 'Слова': 19, 'Символы с пробелами': 127, 'Символы без пробелов': 109}\n",
            "\n",
            "=== Тест 2: файл отсутствует ===\n",
            "Статистика файла: Ошибка: файл не найден!\n"
          ]
        }
      ],
      "source": [
        "test_content = \"\"\"Первая строка текста\n",
        "Вторая строка с большим количеством слов\n",
        "Третья строка\n",
        "Четвертая строка для теста\n",
        "Пятая и последняя строка\"\"\"\n",
        "\n",
        "def file_statistics(filename):\n",
        "    try:\n",
        "        with open(filename, \"r\", encoding=\"utf-8\") as f:\n",
        "            lines = f.readlines()\n",
        "            total_lines = len(lines)\n",
        "            total_words = sum(len(line.split()) for line in lines)\n",
        "            total_chars_with_space = sum(len(line) for line in lines)\n",
        "            total_chars_no_space = sum(len(line.replace(\" \", \"\").replace(\"\\n\", \"\")) for line in lines)\n",
        "            return {\n",
        "                \"Строки\": total_lines,\n",
        "                \"Слова\": total_words,\n",
        "                \"Символы с пробелами\": total_chars_with_space,\n",
        "                \"Символы без пробелов\": total_chars_no_space\n",
        "            }\n",
        "    except FileNotFoundError:\n",
        "        return \"Ошибка: файл не найден!\"\n",
        "\n",
        "def main():\n",
        "    print(\"=== Тест 1: файл существует ===\")\n",
        "    with open(\"output.txt\", \"w\", encoding=\"utf-8\") as f:\n",
        "        f.write(test_content)\n",
        "\n",
        "    with open(\"output.txt\", \"r\", encoding=\"utf-8\") as f:\n",
        "        print(\"Содержимое файла:\\n\", f.read())\n",
        "\n",
        "    stats = file_statistics(\"output.txt\")\n",
        "    print(\"Статистика файла:\", stats)\n",
        "\n",
        "    print(\"\\n=== Тест 2: файл отсутствует ===\")\n",
        "    stats = file_statistics(\"missing.txt\")\n",
        "    print(\"Статистика файла:\", stats)\n",
        "\n",
        "if __name__ == \"__main__\":\n",
        "    main()\n"
      ]
    },
    {
      "cell_type": "markdown",
      "id": "903281dd",
      "metadata": {
        "id": "903281dd"
      },
      "source": [
        "---"
      ]
    },
    {
      "cell_type": "markdown",
      "id": "ad8b4ae4",
      "metadata": {
        "id": "ad8b4ae4"
      },
      "source": [
        "### **Пункт №8. Поиск и замена в файле**"
      ]
    },
    {
      "cell_type": "markdown",
      "id": "e5230d0a",
      "metadata": {
        "id": "e5230d0a"
      },
      "source": [
        "Напишите функцию `replace_in_file(filename, old_text, new_text)`, которая заменяет все вхождения `old_text` на `new_text` в файле и сохраняет результат в новый файл с префиксом \"modified_\".\n",
        "\n",
        "**ОБЯЗАТЕЛЬНО:**\n",
        "- Создайте файл с текстом, содержащим минимум 3 вхождения заменяемого слова\n",
        "- Выведите содержимое файла ДО замены\n",
        "- Выполните замену\n",
        "- Выведите содержимое файла ПОСЛЕ замены\n",
        "- Покажите количество произведенных замен"
      ]
    },
    {
      "cell_type": "code",
      "execution_count": null,
      "id": "64a05e35",
      "metadata": {
        "id": "64a05e35"
      },
      "outputs": [],
      "source": [
        "# Ваш код и демонстрация работы"
      ]
    },
    {
      "cell_type": "markdown",
      "id": "f77b0568",
      "metadata": {
        "id": "f77b0568"
      },
      "source": [
        "---"
      ]
    },
    {
      "cell_type": "markdown",
      "id": "79a081b1",
      "metadata": {
        "id": "79a081b1"
      },
      "source": [
        "### **Пункт №9. Объединение файлов**"
      ]
    },
    {
      "cell_type": "markdown",
      "id": "599cee3c",
      "metadata": {
        "id": "599cee3c"
      },
      "source": [
        "Создайте функцию `merge_files(file_list, output_file)`, которая объединяет содержимое нескольких текстовых файлов в один, добавляя после каждого разделитель.\n",
        "\n",
        "**ОБЯЗАТЕЛЬНО:**\n",
        "- Создайте минимум 3 файла с разным содержимым\n",
        "- Выведите содержимое КАЖДОГО исходного файла\n",
        "- Выполните объединение\n",
        "- Выведите содержимое результирующего файла"
      ]
    },
    {
      "cell_type": "code",
      "execution_count": null,
      "id": "581b5868",
      "metadata": {
        "id": "581b5868"
      },
      "outputs": [],
      "source": [
        "# Ваш код и демонстрация работы"
      ]
    },
    {
      "cell_type": "markdown",
      "id": "eb866091",
      "metadata": {
        "id": "eb866091"
      },
      "source": [
        "---"
      ]
    }
  ],
  "metadata": {
    "colab": {
      "provenance": [],
      "include_colab_link": true
    },
    "language_info": {
      "name": "python"
    },
    "kernelspec": {
      "name": "python3",
      "display_name": "Python 3"
    }
  },
  "nbformat": 4,
  "nbformat_minor": 5
}